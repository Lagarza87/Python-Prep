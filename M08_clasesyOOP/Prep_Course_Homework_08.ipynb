{
 "cells": [
  {
   "attachments": {},
   "cell_type": "markdown",
   "metadata": {},
   "source": [
    "## Clases y Programación Orientada a Objetos"
   ]
  },
  {
   "attachments": {},
   "cell_type": "markdown",
   "metadata": {},
   "source": [
    "1) Crear la clase vehículo que contenga los atributos:<br>\n",
    "Color<br>\n",
    "Si es moto, auto, camioneta ó camión<br>\n",
    "Cilindrada del motor"
   ]
  },
  {
   "cell_type": "code",
   "execution_count": 2,
   "metadata": {},
   "outputs": [],
   "source": [
    "class Vehiculo:\n",
    "\n",
    "    def __init__(self,color,tipo,cilindrada):\n",
    "        self.color = color\n",
    "        self.tipo = tipo\n",
    "        self.cilindrada = cilindrada\n",
    "\n"
   ]
  },
  {
   "attachments": {},
   "cell_type": "markdown",
   "metadata": {},
   "source": [
    "2) A la clase Vehiculo creada en el punto 1, agregar los siguientes métodos:<br>\n",
    "Acelerar<br>\n",
    "Frenar<br>\n",
    "Doblar<br>"
   ]
  },
  {
   "cell_type": "code",
   "execution_count": 3,
   "metadata": {},
   "outputs": [],
   "source": [
    "class Vehiculo:\n",
    "\n",
    "    def __init__(self,color,tipo,cilindrada):\n",
    "        self.color = color\n",
    "        self.tipo = tipo\n",
    "        self.cilindrada = cilindrada\n",
    "        self.velocidad = 0\n",
    "        self.direccion = 0\n",
    "\n",
    "    def Acelerar(self, velocidad):\n",
    "        self.velocidad += velocidad\n",
    "\n",
    "    def Frenar(self, velocidad):\n",
    "        self.velocidad -= velocidad\n",
    "\n",
    "    def Doblar(self, grados):\n",
    "        self.direccion += grados\n"
   ]
  },
  {
   "attachments": {},
   "cell_type": "markdown",
   "metadata": {},
   "source": [
    "3) Instanciar 3 objetos de la clase vehículo y ejecutar sus métodos, probar luego el resultado"
   ]
  },
  {
   "cell_type": "code",
   "execution_count": 4,
   "metadata": {},
   "outputs": [],
   "source": [
    "v1 = Vehiculo('azul', 'auto', '1.2')\n",
    "v2 = Vehiculo('verde', 'moto', '250')\n",
    "v3 = Vehiculo('verde', 'camion', '3.6')\n",
    "\n",
    "v1.Acelerar(80)\n",
    "v2.Acelerar(60)\n",
    "v3.Acelerar(40)\n",
    "\n",
    "v1.Frenar(20)\n",
    "\n",
    "v1.Doblar(30)\n",
    "v3.Doblar(45)"
   ]
  },
  {
   "attachments": {},
   "cell_type": "markdown",
   "metadata": {},
   "source": [
    "4) Agregar a la clase Vehiculo, un método que muestre su estado, es decir, a que velocidad se encuentra y su dirección. Y otro método que muestre color, tipo y cilindrada"
   ]
  },
  {
   "cell_type": "code",
   "execution_count": 5,
   "metadata": {},
   "outputs": [
    {
     "name": "stdout",
     "output_type": "stream",
     "text": [
      "Soy un auto de color azul y cilindrada 1.2 litros\n",
      "Velocidad: 30 - Dirección: 45\n"
     ]
    }
   ],
   "source": [
    "class Vehiculo:\n",
    "\n",
    "    def __init__(self,color,tipo,cilindrada):\n",
    "        self.color = color\n",
    "        self.tipo = tipo\n",
    "        self.cilindrada = cilindrada\n",
    "        self.velocidad = 0\n",
    "        self.direccion = 0\n",
    "\n",
    "    def Acelerar(self, velocidad):\n",
    "        self.velocidad += velocidad\n",
    "\n",
    "    def Frenar(self, velocidad):\n",
    "        self.velocidad -= velocidad\n",
    "\n",
    "    def Doblar(self, grados):\n",
    "        self.direccion += grados\n",
    "\n",
    "    def Estado(self):\n",
    "        print('Velocidad:', self.velocidad, '- Dirección:', self.direccion)\n",
    "\n",
    "    def Detalle(self):\n",
    "        print('Soy un', self.tipo, 'de color', self.color, 'y cilindrada', self.cilindrada, 'litros')\n",
    "\n",
    "v1 = Vehiculo('azul', 'auto', '1.2')\n",
    "v1.Acelerar(30)\n",
    "v1.Doblar(45)\n",
    "v1.Detalle()\n",
    "v1.Estado()"
   ]
  },
  {
   "attachments": {},
   "cell_type": "markdown",
   "metadata": {},
   "source": [
    "5) Crear una clase que permita utilizar las funciones creadas en la práctica del módulo 7<br>\n",
    "Verificar Primo<br>\n",
    "Valor modal<br>\n",
    "Conversión grados<br>\n",
    "Factorial<br>"
   ]
  },
  {
   "cell_type": "code",
   "execution_count": 6,
   "metadata": {},
   "outputs": [],
   "source": [
    "class Herramientas:\n",
    "    def __init__(self) -> None:\n",
    "        pass\n",
    "\n",
    "#Verifica Numero Primo\n",
    "    def comprobar(self, numero):\n",
    "        primo = True\n",
    "        for i in range(2, numero):\n",
    "            if numero % i == 0:\n",
    "                primo = False\n",
    "                break\n",
    "        return primo\n",
    "    \n",
    "#Valor Modal\n",
    "    def lista_num(self, lista):\n",
    "        principal = []\n",
    "        repetidos = []\n",
    "        if len(lista) == 0:\n",
    "            return None\n",
    "        for elemento in lista:\n",
    "            if elemento in principal:\n",
    "                i = principal.index(elemento)\n",
    "                repetidos[i] += 1\n",
    "            else:\n",
    "                principal.append(elemento)\n",
    "                repetidos.append(1)\n",
    "        moda = principal[0]\n",
    "        maximo = repetidos[0]\n",
    "        for i, elemento in enumerate(principal):\n",
    "            if repetidos[i] > maximo:\n",
    "                moda = principal[i]\n",
    "                maximo = repetidos[i]\n",
    "        return moda, maximo\n",
    "    \n",
    "#Conversion Grados \n",
    "    def conver_grados(self, valor, origen, destino):\n",
    "        if origen == 'celsius':\n",
    "            if destino == 'celsius':\n",
    "                valor_destino = valor  \n",
    "            elif destino == 'farenheit':\n",
    "                valor_destino = (valor * 9 / 5) + 32  \n",
    "            elif destino == 'kelvin':\n",
    "                valor_destino = valor + 273.15  \n",
    "            else:\n",
    "                print('Dato de Destino incorrecto')\n",
    "        elif  origen == 'farenheit':\n",
    "            if destino == 'farenheit':\n",
    "                valor_destino = valor  \n",
    "            elif destino == 'celsius':\n",
    "                valor_destino = (valor -32) * 5 / 9  \n",
    "            elif destino == 'kelvin':\n",
    "                valor_destino = ((valor -32) * 5 / 9 ) + 273.15  \n",
    "            else:\n",
    "                print('Dato de Destino incorrecto')\n",
    "        elif origen == 'kelvin':\n",
    "            if destino == 'kelvin':\n",
    "                valor_destino = valor  \n",
    "            elif destino == 'celsius':\n",
    "                valor_destino = valor - 273.15 \n",
    "            elif destino == 'farenheit':\n",
    "                valor_destino = ((valor - 273.15) * 9 / 5) + 32  \n",
    "            else:\n",
    "                print('Dato de Destino incorrecto')\n",
    "        else:\n",
    "            print('Dato de Origen incorrecto') \n",
    "        return valor_destino\n",
    "\n",
    " #Factorial   \n",
    "    def factorial(self, numero):\n",
    "        if type(numero) != int:\n",
    "            return 'El número debe ser un entero'\n",
    "        elif numero < 0:\n",
    "            return 'El numero debe ser positivo'\n",
    "        elif numero <= 1:\n",
    "            return 1\n",
    "    \n",
    "        numero = numero * self.factorial(numero - 1)\n",
    "        return numero\n",
    "\n",
    "h = Herramientas()\n"
   ]
  },
  {
   "attachments": {},
   "cell_type": "markdown",
   "metadata": {},
   "source": [
    "6) Probar las funciones incorporadas en la clase del punto 5"
   ]
  },
  {
   "cell_type": "code",
   "execution_count": 7,
   "metadata": {},
   "outputs": [
    {
     "data": {
      "text/plain": [
       "False"
      ]
     },
     "execution_count": 7,
     "metadata": {},
     "output_type": "execute_result"
    }
   ],
   "source": [
    "h.comprobar(8)"
   ]
  },
  {
   "cell_type": "code",
   "execution_count": 8,
   "metadata": {},
   "outputs": [
    {
     "name": "stdout",
     "output_type": "stream",
     "text": [
      "El valor modal es 8 y se reptie 2 veces\n"
     ]
    }
   ],
   "source": [
    "listado = [1,8,2,5,4,8,10,7]\n",
    "moda, repe = h.lista_num(listado)\n",
    "print('El valor modal es', moda, 'y se reptie', repe, 'veces')\n"
   ]
  },
  {
   "cell_type": "code",
   "execution_count": 9,
   "metadata": {},
   "outputs": [
    {
     "data": {
      "text/plain": [
       "284.15"
      ]
     },
     "execution_count": 9,
     "metadata": {},
     "output_type": "execute_result"
    }
   ],
   "source": [
    "h.conver_grados(11, 'celsius', 'kelvin')"
   ]
  },
  {
   "cell_type": "code",
   "execution_count": 10,
   "metadata": {},
   "outputs": [
    {
     "data": {
      "text/plain": [
       "120"
      ]
     },
     "execution_count": 10,
     "metadata": {},
     "output_type": "execute_result"
    }
   ],
   "source": [
    "h.factorial(5)"
   ]
  },
  {
   "attachments": {},
   "cell_type": "markdown",
   "metadata": {},
   "source": [
    "7) Es necesario que la clase creada en el punto 5 contenga una lista, sobre la cual se apliquen las funciones incorporadas"
   ]
  },
  {
   "cell_type": "code",
   "execution_count": 3,
   "metadata": {},
   "outputs": [],
   "source": [
    "class Herramientas:\n",
    "    def __init__(self, lista_numeros):\n",
    "        self.lista = lista_numeros\n",
    "\n",
    "    def _comprobar(self):\n",
    "        for i in self.lista:\n",
    "            if (self.comprobar(i)):\n",
    "                print('El numero', i, 'es primo')\n",
    "            else:\n",
    "                print('El numero', i, 'no es primo')\n",
    "\n",
    "    def comprobar(self, numero):\n",
    "        primo = True\n",
    "        for i in range(2, numero):\n",
    "            if numero % i == 0:\n",
    "                primo = False\n",
    "                break\n",
    "        return primo\n",
    "    \n",
    "    def _conver_grados(self, origen, destino):\n",
    "        for i in self.lista:\n",
    "            print(i, 'grados', origen, 'son', self.conver_grados(i, origen, destino), 'grados', destino)\n",
    "\n",
    "    def _factorial(self):\n",
    "        for i in self.lista:\n",
    "            print('El factorial de ', i, 'es', self.factorial(i))\n",
    "\n",
    "    def lista_num(self, num):\n",
    "        principal = []\n",
    "        repetidos = []\n",
    "        if len(self.lista) == 0:\n",
    "            return None\n",
    "        if (num):\n",
    "            self.lista.sort()\n",
    "        else:\n",
    "            self.lista.sort(reverse=True)\n",
    "        for elemento in self.lista:\n",
    "            if elemento in principal:\n",
    "                i = principal.index(elemento)\n",
    "                repetidos[i] += 1\n",
    "            else:\n",
    "                principal.append(elemento)\n",
    "                repetidos.append(1)\n",
    "        moda = principal[0]\n",
    "        maximo = repetidos[0]\n",
    "        for i, elemento in enumerate(principal):\n",
    "            if repetidos[i] > maximo:\n",
    "                moda = principal[i]\n",
    "                maximo = repetidos[i]\n",
    "        return moda, maximo\n",
    "    \n",
    "    def conver_grados(self, valor, origen, destino):\n",
    "        if origen == 'celsius':\n",
    "            if destino == 'celsius':\n",
    "                valor_destino = valor  \n",
    "            elif destino == 'farenheit':\n",
    "                valor_destino = (valor * 9 / 5) + 32  \n",
    "            elif destino == 'kelvin':\n",
    "                valor_destino = valor + 273.15  \n",
    "            else:\n",
    "                print('Dato de Destino incorrecto')\n",
    "        elif  origen == 'farenheit':\n",
    "            if destino == 'farenheit':\n",
    "                valor_destino = valor  \n",
    "            elif destino == 'celsius':\n",
    "                valor_destino = (valor -32) * 5 / 9  \n",
    "            elif destino == 'kelvin':\n",
    "                valor_destino = ((valor -32) * 5 / 9 ) + 273.15  \n",
    "            else:\n",
    "                print('Dato de Destino incorrecto')\n",
    "        elif origen == 'kelvin':\n",
    "            if destino == 'kelvin':\n",
    "                valor_destino = valor  \n",
    "            elif destino == 'celsius':\n",
    "                valor_destino = valor - 273.15 \n",
    "            elif destino == 'farenheit':\n",
    "                valor_destino = ((valor - 273.15) * 9 / 5) + 32  \n",
    "            else:\n",
    "                print('Dato de Destino incorrecto')\n",
    "        else:\n",
    "            print('Dato de Origen incorrecto') \n",
    "        return valor_destino\n",
    "    \n",
    "    def factorial(self, numero):\n",
    "        if type(numero) != int:\n",
    "            return 'El número debe ser un entero'\n",
    "        elif numero < 0:\n",
    "            return 'El numero debe ser positivo'\n",
    "        elif numero <= 1:\n",
    "            return 1\n",
    "    \n",
    "        numero = numero * self.factorial(numero - 1)\n",
    "        return numero\n",
    "    \n"
   ]
  },
  {
   "cell_type": "code",
   "execution_count": 11,
   "metadata": {},
   "outputs": [],
   "source": [
    "h = Herramientas([1,2,2,3,5,8,8,8,10])"
   ]
  },
  {
   "cell_type": "code",
   "execution_count": 13,
   "metadata": {},
   "outputs": [
    {
     "name": "stdout",
     "output_type": "stream",
     "text": [
      "El numero 1 es primo\n",
      "El numero 2 es primo\n",
      "El numero 2 es primo\n",
      "El numero 3 es primo\n",
      "El numero 5 es primo\n",
      "El numero 8 no es primo\n",
      "El numero 8 no es primo\n",
      "El numero 8 no es primo\n",
      "El numero 10 no es primo\n"
     ]
    }
   ],
   "source": [
    "h._comprobar()"
   ]
  },
  {
   "cell_type": "code",
   "execution_count": 8,
   "metadata": {},
   "outputs": [
    {
     "name": "stdout",
     "output_type": "stream",
     "text": [
      "1 grados celsius son 33.8 grados farenheit\n",
      "2 grados celsius son 35.6 grados farenheit\n",
      "2 grados celsius son 35.6 grados farenheit\n",
      "3 grados celsius son 37.4 grados farenheit\n",
      "5 grados celsius son 41.0 grados farenheit\n",
      "8 grados celsius son 46.4 grados farenheit\n",
      "8 grados celsius son 46.4 grados farenheit\n",
      "8 grados celsius son 46.4 grados farenheit\n",
      "10 grados celsius son 50.0 grados farenheit\n"
     ]
    }
   ],
   "source": [
    "h._conver_grados('celsius', 'farenheit')"
   ]
  },
  {
   "cell_type": "code",
   "execution_count": 12,
   "metadata": {},
   "outputs": [
    {
     "name": "stdout",
     "output_type": "stream",
     "text": [
      "El factorial de  1 es 1\n",
      "El factorial de  2 es 2\n",
      "El factorial de  2 es 2\n",
      "El factorial de  3 es 6\n",
      "El factorial de  5 es 120\n",
      "El factorial de  8 es 40320\n",
      "El factorial de  8 es 40320\n",
      "El factorial de  8 es 40320\n",
      "El factorial de  10 es 3628800\n"
     ]
    }
   ],
   "source": [
    "h._factorial()"
   ]
  },
  {
   "cell_type": "code",
   "execution_count": 16,
   "metadata": {},
   "outputs": [
    {
     "name": "stdout",
     "output_type": "stream",
     "text": [
      "El valor modal es 8 y se repite 3 veces\n"
     ]
    }
   ],
   "source": [
    "moda, repetidos = h.lista_num(False)\n",
    "print('El valor modal es', moda, 'y se repite', repetidos, 'veces')"
   ]
  },
  {
   "attachments": {},
   "cell_type": "markdown",
   "metadata": {},
   "source": [
    "8) Crear un archivo .py aparte y ubicar allí la clase generada en el punto anterior. Luego realizar la importación del módulo y probar alguna de sus funciones"
   ]
  },
  {
   "cell_type": "code",
   "execution_count": 17,
   "metadata": {},
   "outputs": [],
   "source": [
    "from herramientas2 import *"
   ]
  },
  {
   "cell_type": "code",
   "execution_count": 21,
   "metadata": {},
   "outputs": [],
   "source": [
    "h2 = Herramientas([1,2,3,4,5,6,6,7,7,7,8])"
   ]
  },
  {
   "cell_type": "code",
   "execution_count": 22,
   "metadata": {},
   "outputs": [
    {
     "name": "stdout",
     "output_type": "stream",
     "text": [
      "El numero 1 es primo\n",
      "El numero 2 es primo\n",
      "El numero 3 es primo\n",
      "El numero 4 no es primo\n",
      "El numero 5 es primo\n",
      "El numero 6 no es primo\n",
      "El numero 6 no es primo\n",
      "El numero 7 es primo\n",
      "El numero 7 es primo\n",
      "El numero 7 es primo\n",
      "El numero 8 no es primo\n"
     ]
    }
   ],
   "source": [
    "h2._comprobar()"
   ]
  },
  {
   "cell_type": "code",
   "execution_count": 23,
   "metadata": {},
   "outputs": [
    {
     "name": "stdout",
     "output_type": "stream",
     "text": [
      "El valor modal es 7 y se repite 3 veces\n"
     ]
    }
   ],
   "source": [
    "moda, repetidos = h2.lista_num(False)\n",
    "print('El valor modal es', moda, 'y se repite', repetidos, 'veces')"
   ]
  }
 ],
 "metadata": {
  "interpreter": {
   "hash": "c85384e4cb51c8b72350f3a8712cc8351fdc3955e32a27f9b60c6242ab125f01"
  },
  "kernelspec": {
   "display_name": "Python 3 (ipykernel)",
   "language": "python",
   "name": "python3"
  },
  "language_info": {
   "codemirror_mode": {
    "name": "ipython",
    "version": 3
   },
   "file_extension": ".py",
   "mimetype": "text/x-python",
   "name": "python",
   "nbconvert_exporter": "python",
   "pygments_lexer": "ipython3",
   "version": "3.11.2"
  }
 },
 "nbformat": 4,
 "nbformat_minor": 4
}
