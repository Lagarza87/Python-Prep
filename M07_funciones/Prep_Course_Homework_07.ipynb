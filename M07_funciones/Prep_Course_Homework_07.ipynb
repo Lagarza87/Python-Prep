{
 "cells": [
  {
   "attachments": {},
   "cell_type": "markdown",
   "metadata": {},
   "source": [
    "## Funciones"
   ]
  },
  {
   "attachments": {},
   "cell_type": "markdown",
   "metadata": {},
   "source": [
    "1) Crear una función que reciba un número como parámetro y devuelva True si es primo y False si no lo es"
   ]
  },
  {
   "cell_type": "code",
   "execution_count": 93,
   "metadata": {},
   "outputs": [
    {
     "data": {
      "text/plain": [
       "False"
      ]
     },
     "execution_count": 93,
     "metadata": {},
     "output_type": "execute_result"
    }
   ],
   "source": [
    "def comprobar(numero):\n",
    "    primo = True\n",
    "    for i in range(2, numero):\n",
    "        if numero % i == 0:\n",
    "            primo = False\n",
    "            break\n",
    "    return(primo)\n",
    "\n",
    "comprobar(8)\n"
   ]
  },
  {
   "attachments": {},
   "cell_type": "markdown",
   "metadata": {},
   "source": [
    "2) Utilizando la función del punto 1, realizar otra función que reciba de parámetro una lista de números y devuelva sólo aquellos que son primos en otra lista"
   ]
  },
  {
   "cell_type": "code",
   "execution_count": 94,
   "metadata": {},
   "outputs": [
    {
     "data": {
      "text/plain": [
       "[1, 2, 3, 5, 7, 11, 13]"
      ]
     },
     "execution_count": 94,
     "metadata": {},
     "output_type": "execute_result"
    }
   ],
   "source": [
    "def numeros_primos(lista):\n",
    "    primos = []\n",
    "    for elemento in lista:\n",
    "        if comprobar(int(elemento)):\n",
    "            primos.append(elemento)\n",
    "    return primos\n",
    "    \n",
    "comprobar_numeros = [1,2,3,4,5,6,7,8,9,10,11,12,13,14,15]\n",
    "primos = numeros_primos(comprobar_numeros)\n",
    "primos\n"
   ]
  },
  {
   "attachments": {},
   "cell_type": "markdown",
   "metadata": {},
   "source": [
    "3) Crear una función que al recibir una lista de números, devuelva el que más se repite y cuántas veces lo hace. Si hay más de un \"más repetido\", que devuelva cualquiera"
   ]
  },
  {
   "cell_type": "code",
   "execution_count": 96,
   "metadata": {},
   "outputs": [
    {
     "data": {
      "text/plain": [
       "(5, 5)"
      ]
     },
     "execution_count": 96,
     "metadata": {},
     "output_type": "execute_result"
    }
   ],
   "source": [
    "def lista_num(lista):\n",
    "    principal = []\n",
    "    repetidos = []\n",
    "    if len(lista) == 0:\n",
    "        return None\n",
    "    for elemento in lista:\n",
    "        if elemento in principal:\n",
    "            i = principal.index(elemento)\n",
    "            repetidos[i] += 1\n",
    "        else:\n",
    "            principal.append(elemento)\n",
    "            repetidos.append(1)\n",
    "    moda = principal[0]\n",
    "    maximo = repetidos[0]\n",
    "    for i, elemento in enumerate(principal):\n",
    "        if repetidos[i] > maximo:\n",
    "            moda = principal[i]\n",
    "            maximo = repetidos[i]\n",
    "    return moda, maximo\n",
    "\n",
    "lis = [2,5,1,5,3,4,5,22,3,5,4,2,5,6]\n",
    "lista_num(lis)\n"
   ]
  },
  {
   "attachments": {},
   "cell_type": "markdown",
   "metadata": {},
   "source": [
    "4) Crear una función que convierta entre grados Celsius, Farenheit y Kelvin<br>\n",
    "Fórmula 1\t: (°C × 9/5) + 32 = °F<br>\n",
    "Fórmula 2\t: °C + 273.15 = °K<br>\n",
    "Debe recibir 3 parámetros: el valor, la medida de orígen y la medida de destino\n"
   ]
  },
  {
   "cell_type": "code",
   "execution_count": 83,
   "metadata": {},
   "outputs": [
    {
     "name": "stdout",
     "output_type": "stream",
     "text": [
      "1 grado Celsius a Celsius: 1\n",
      "1 grado Celsius a Kelvin: 274.15\n",
      "1 grado Celsius a Farenheit: 33.8\n",
      "1 grado Kelvin a Celsius: -272.15\n",
      "1 grado Kelvin a Kelvin: 1\n",
      "1 grado Kelvin a Farenheit: -457.87\n",
      "1 grado Farenheit a Celsius: -17.22222222222222\n",
      "1 grado Farenheit a Kelvin: 255.92777777777775\n",
      "1 grado Farenheit a Farenheit: 1\n"
     ]
    }
   ],
   "source": [
    "def conver_grados(valor, origen, destino):\n",
    "    if origen == 'celsius':\n",
    "        if destino == 'celsius':\n",
    "            valor_destino = valor  \n",
    "        elif destino == 'farenheit':\n",
    "            valor_destino = (valor * 9 / 5) + 32  \n",
    "        elif destino == 'kelvin':\n",
    "            valor_destino = valor + 273.15  \n",
    "        else:\n",
    "            print('Dato de Destino incorrecto')\n",
    "    elif  origen == 'farenheit':\n",
    "        if destino == 'farenheit':\n",
    "            valor_destino = valor  \n",
    "        elif destino == 'celsius':\n",
    "            valor_destino = (valor -32) * 5 / 9  \n",
    "        elif destino == 'kelvin':\n",
    "            valor_destino = ((valor -32) * 5 / 9 ) + 273.15  \n",
    "        else:\n",
    "            print('Dato de Destino incorrecto')\n",
    "    elif origen == 'kelvin':\n",
    "        if destino == 'kelvin':\n",
    "            valor_destino = valor  \n",
    "        elif destino == 'celsius':\n",
    "            valor_destino = valor - 273.15 \n",
    "        elif destino == 'farenheit':\n",
    "            valor_destino = ((valor - 273.15) * 9 / 5) + 32  \n",
    "        else:\n",
    "            print('Dato de Destino incorrecto')\n",
    "    else:\n",
    "        print('Dato de Origen incorrecto') \n",
    "    return valor_destino\n",
    "\n",
    "print('1 grado Celsius a Celsius:', conver_grados(1, 'celsius', 'celsius'))\n",
    "print('1 grado Celsius a Kelvin:', conver_grados(1, 'celsius', 'kelvin'))\n",
    "print('1 grado Celsius a Farenheit:', conver_grados(1, 'celsius', 'farenheit'))\n",
    "print('1 grado Kelvin a Celsius:', conver_grados(1, 'kelvin', 'celsius'))\n",
    "print('1 grado Kelvin a Kelvin:', conver_grados(1, 'kelvin', 'kelvin'))\n",
    "print('1 grado Kelvin a Farenheit:', conver_grados(1, 'kelvin', 'farenheit'))\n",
    "print('1 grado Farenheit a Celsius:', conver_grados(1, 'farenheit', 'celsius'))\n",
    "print('1 grado Farenheit a Kelvin:', conver_grados(1, 'farenheit', 'kelvin'))\n",
    "print('1 grado Farenheit a Farenheit:', conver_grados(1, 'farenheit', 'farenheit'))\n",
    "\n"
   ]
  },
  {
   "attachments": {},
   "cell_type": "markdown",
   "metadata": {},
   "source": [
    "5) Iterando una lista con los tres valores posibles de temperatura que recibe la función del punto 5, hacer un print para cada combinación de los mismos:"
   ]
  },
  {
   "cell_type": "code",
   "execution_count": 85,
   "metadata": {},
   "outputs": [
    {
     "name": "stdout",
     "output_type": "stream",
     "text": [
      "1 grado celsius a celsius : 1\n",
      "1 grado celsius a farenheit : 33.8\n",
      "1 grado celsius a kelvin : 274.15\n",
      "1 grado farenheit a celsius : -17.22222222222222\n",
      "1 grado farenheit a farenheit : 1\n",
      "1 grado farenheit a kelvin : 255.92777777777775\n",
      "1 grado kelvin a celsius : -272.15\n",
      "1 grado kelvin a farenheit : -457.87\n",
      "1 grado kelvin a kelvin : 1\n"
     ]
    }
   ],
   "source": [
    "temp = ['celsius', 'farenheit', 'kelvin']  \n",
    "for t in range(0, 3):  \n",
    "    for c in range(0, 3): \n",
    "        print('1 grado', temp[t], 'a', temp[c], ':', conver_grados(1, temp[t], temp[c]))\n"
   ]
  },
  {
   "attachments": {},
   "cell_type": "markdown",
   "metadata": {},
   "source": [
    "6) Armar una función que devuelva el factorial de un número. Tener en cuenta que el usuario puede equivocarse y enviar de parámetro un número no entero o negativo"
   ]
  },
  {
   "cell_type": "code",
   "execution_count": 90,
   "metadata": {},
   "outputs": [
    {
     "name": "stdout",
     "output_type": "stream",
     "text": [
      "720\n",
      "El numero debe ser positivo\n",
      "1\n",
      "El número debe ser un entero\n"
     ]
    }
   ],
   "source": [
    "def factorial(numero):\n",
    "    if type(numero) != int:\n",
    "        return 'El número debe ser un entero'\n",
    "    elif numero < 0:\n",
    "        return 'El numero debe ser positivo'\n",
    "    elif numero <= 1:\n",
    "        return 1\n",
    "    \n",
    "    numero = numero * factorial(numero - 1)\n",
    "    return numero\n",
    "\n",
    "print(factorial(6))\n",
    "print(factorial(-6))\n",
    "print(factorial(1))\n",
    "print(factorial('s'))\n",
    "    "
   ]
  }
 ],
 "metadata": {
  "interpreter": {
   "hash": "c85384e4cb51c8b72350f3a8712cc8351fdc3955e32a27f9b60c6242ab125f01"
  },
  "kernelspec": {
   "display_name": "Python 3 (ipykernel)",
   "language": "python",
   "name": "python3"
  },
  "language_info": {
   "codemirror_mode": {
    "name": "ipython",
    "version": 3
   },
   "file_extension": ".py",
   "mimetype": "text/x-python",
   "name": "python",
   "nbconvert_exporter": "python",
   "pygments_lexer": "ipython3",
   "version": "3.11.2"
  }
 },
 "nbformat": 4,
 "nbformat_minor": 4
}
